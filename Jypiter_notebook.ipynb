{
 "cells": [
  {
   "cell_type": "markdown",
   "metadata": {},
   "source": [
    "**1.Write a program to print the following pattern :**\n",
    "\n",
    "a</br>\n",
    "a a</br>\n",
    "a a a</br>\n",
    "a a a a</br>\n",
    "a a a</br>\n",
    "a a</br>\n",
    "a"
   ]
  },
  {
   "cell_type": "code",
   "execution_count": 1,
   "metadata": {},
   "outputs": [
    {
     "name": "stdout",
     "output_type": "stream",
     "text": [
      "a \n",
      "a a \n",
      "a a a \n",
      "a a a a \n",
      "a a a \n",
      "a a \n",
      "a \n"
     ]
    }
   ],
   "source": [
    "# Defining row variable\n",
    "row = 4\n",
    "# Printing first half of pattern\n",
    "for i in range(row):\n",
    "    print(\"a \" * (i + 1))\n",
    "# Printing second half of pattern\n",
    "for i in range(row - 1):\n",
    "    print(\"a \" * (row - i - 1))\n"
   ]
  },
  {
   "cell_type": "markdown",
   "metadata": {},
   "source": [
    "**2.Write a program to accept 5 even and 5 odd numbers from the user and display :**\n",
    "\n",
    "● sum of even numbers,</br>\n",
    "● product of odd numbers</br>\n",
    "● absolute difference of the sum and product.\n",
    "\n",
    "Check if the final result (absolute difference) is a prime number or not."
   ]
  },
  {
   "cell_type": "code",
   "execution_count": 18,
   "metadata": {},
   "outputs": [
    {
     "name": "stdout",
     "output_type": "stream",
     "text": [
      "Even numbers: [12, 24, 36, 48, 60]\n",
      "Odd numbers: [13, 39, 65, 91, 117]\n",
      "\n",
      "Sum of even numbers: 180\n",
      "\n",
      "The product of odd numbers: 350871885\n",
      "\n",
      "Absolute difference of the sum and product is 350871705\n",
      "350871705 is not prime\n"
     ]
    }
   ],
   "source": [
    "# Accept 5 even numbers\n",
    "even=[]\n",
    "count=0\n",
    "while count < 5:\n",
    "    num = int(input('Enter an even number: '))\n",
    "    if num % 2==0:\n",
    "        even.append(num)\n",
    "        count += 1\n",
    "    else:\n",
    "        print('Please enter an even number.')\n",
    "print('Even numbers:', even)\n",
    "\n",
    "# Accept 5 odd numbers\n",
    "odd=[]\n",
    "count=0\n",
    "while count < 5:\n",
    "    num=int(input('Enter an odd number: '))\n",
    "    if num % 2!=0:\n",
    "        odd.append(num)\n",
    "        count += 1\n",
    "    else:\n",
    "        print('Please enter an odd number.')\n",
    "print('Odd numbers:', odd)\n",
    "\n",
    "# Sum of even numbers\n",
    "Esum = sum(even)\n",
    "print('\\nSum of even numbers:', Esum)\n",
    "\n",
    "# Calculate product of odd numbers\n",
    "Oproduct = 1\n",
    "for num in odd:\n",
    "    Oproduct *= num\n",
    "print('\\nThe product of odd numbers:', Oproduct)\n",
    "\n",
    "# Absolute difference of the sum and product\n",
    "absolute_diff = abs(Esum - Oproduct)\n",
    "print('\\nAbsolute difference of the sum and product is', absolute_diff)\n",
    "# Checking if num is not prime or prime number\n",
    "for i in range(2,(absolute_diff//2)+1):\n",
    "        if absolute_diff%i==0:\n",
    "            print(absolute_diff,'is not prime')\n",
    "            break\n",
    "else:\n",
    "    print(num,'is prime')\n",
    "\n"
   ]
  },
  {
   "cell_type": "markdown",
   "metadata": {},
   "source": [
    "**3.Create a class named Item that holds data about an item in a retail store. The class should have the following three properties:**\n",
    "\n",
    "● name: the name property is a String object that holds the name of the item.</br>\n",
    "● price: the price property is a double variable that holds the item's retail price</br>\n",
    "● quantity: the quantity property is an int variable that holds the number of units currently in inventory\n",
    "\n",
    "**Write the following four methods to retrieve the values from the three fields and their current inventory value**\n",
    "\n",
    "● getName( ) returns the item name of type String</br>\n",
    "● getPrice( ) returns the price of the item of type double</br>\n",
    "● getQuantity( ) returns the number of quantities of type int</br>\n",
    "● getValue( ) that returns the current inventory value (quantity * price) of type double"
   ]
  },
  {
   "cell_type": "code",
   "execution_count": 1,
   "metadata": {},
   "outputs": [
    {
     "name": "stdout",
     "output_type": "stream",
     "text": [
      "Item 1: Stapler, Price: 2.25, Quantity: 15\n",
      "Inventoty Value: Rs.33.75\n",
      "\n",
      "Item 2: Paper, Price: 32.99, Quantity: 255\n",
      "Inventoty Value: Rs.8412.45\n",
      "\n",
      "Item 3: Binder, Price: 4.75, Quantity: 9\n",
      "Inventoty Value: Rs.42.75\n",
      "\n"
     ]
    }
   ],
   "source": [
    "# Creating a class named Item\n",
    "class Item:\n",
    "    def __init__(self, name:str,price:float,quantity:int):\n",
    "        self.name = name\n",
    "        self.price = price\n",
    "        self.quantity = quantity\n",
    "# Creating getName function\n",
    "    def getName(self):       \n",
    "        return self.name\n",
    "# Creating getprice function\n",
    "    def getPrice(self):\n",
    "        return self.price\n",
    "# Creating getQuantity function\n",
    "    def getQuantity(self):\n",
    "        return self.quantity\n",
    "# Creating getValue function\n",
    "    def getValue(self):\n",
    "        return self.quantity * self.price\n",
    "    \n",
    "# Adding data into the Item class\n",
    "item1 = Item(name='Stapler', price=2.25, quantity=15)\n",
    "print(f'Item 1: {item1.getName()}, Price: {item1.getPrice():.2f}, Quantity: {item1.getQuantity()}')\n",
    "print(f'Inventoty Value: {item1.getValue():.2f}\\n')\n",
    "\n",
    "item2 = Item(name='Paper', price=32.99, quantity=255)\n",
    "print(f'Item 2: {item2.getName()}, Price: {item2.getPrice():.2f}, Quantity: {item2.getQuantity()}')\n",
    "print(f'Inventoty Value: {item2.getValue():.2f}\\n')\n",
    "\n",
    "item3 = Item(name=\"Binder\", price=4.75, quantity=9)\n",
    "print(f'Item 3: {item3.getName()}, Price: {item3.getPrice():.2f}, Quantity: {item3.getQuantity()}')\n",
    "print(f'Inventoty Value: {item3.getValue():.2f}\\n')"
   ]
  },
  {
   "cell_type": "markdown",
   "metadata": {},
   "source": [
    "**4.Ask the user number of rows to be generated of a series. Suppose user enters no. of rows = 5 then the series shall be :**</br>\n",
    "9</br>\n",
    "99</br>\n",
    "999</br>\n",
    "9999</br>\n",
    "99999"
   ]
  },
  {
   "cell_type": "code",
   "execution_count": 25,
   "metadata": {},
   "outputs": [
    {
     "name": "stdout",
     "output_type": "stream",
     "text": [
      "9\n",
      "99\n",
      "999\n",
      "9999\n",
      "99999\n"
     ]
    }
   ],
   "source": [
    "# Creating series function\n",
    "def series(rows):\n",
    "    if rows<=0:\n",
    "        print('Please enter a positive number.')\n",
    "    else:\n",
    "        for i in range(1,rows + 1):\n",
    "            print('9'*i)\n",
    "# Get user input for the number of rows   \n",
    "num_rows = int(input('Enter the number of rows: '))\n",
    "# Call the function with user input\n",
    "series(num_rows)\n"
   ]
  },
  {
   "cell_type": "markdown",
   "metadata": {},
   "source": [
    "**5.Write a program to accept a number from the user and check whether the number entered is prime or not.**"
   ]
  },
  {
   "cell_type": "code",
   "execution_count": 26,
   "metadata": {},
   "outputs": [
    {
     "name": "stdout",
     "output_type": "stream",
     "text": [
      "7 is prime number.\n"
     ]
    }
   ],
   "source": [
    "# Taking user input\n",
    "num=int(input('Enter a number: '))\n",
    "# Applying condition that the num should be greather than 1\n",
    "if num<=1:\n",
    "     print(num,'is not a prime number.')\n",
    "elif num>1:\n",
    "# Loop to check for factors of the number\n",
    "    for i in range(2,(num//2)+1):\n",
    "        # Checking if num is not prime or prime number\n",
    "        if num%i==0:\n",
    "            print(num,'is not prime number.')\n",
    "            break\n",
    "    else:\n",
    "        print(num,'is prime number.')"
   ]
  },
  {
   "cell_type": "markdown",
   "metadata": {},
   "source": [
    "**6.Continued from Question 3. Write a separate class called Inventory with methods**\n",
    "\n",
    "● generate() - creates three Item objects</br>\n",
    "● getDetails() - produces a neatly formatted table of the store's inventory displaying the three items, their current inventory value, and the total inventory value for the store."
   ]
  },
  {
   "cell_type": "code",
   "execution_count": 9,
   "metadata": {},
   "outputs": [
    {
     "name": "stdout",
     "output_type": "stream",
     "text": [
      "Item\t\tPrice\tQuantity\tInventory Value\n",
      "==================================================\n",
      "Stapler\t\t2.25\t15\t\t33.75\n",
      "Paper\t\t32.99\t255\t\t8412.45\n",
      "Binder\t\t4.75\t9\t\t42.75\n",
      "\n",
      "Total Inventory Value: 8488.95\n"
     ]
    }
   ],
   "source": [
    "class Inventory:\n",
    "    def __init__(self):\n",
    "        self.items=[]\n",
    "\n",
    "    def generate(self):\n",
    "        # Create and add three Item objects to the list\n",
    "        self.items.append(Item(name='Stapler', price=2.25, quantity=15))\n",
    "        self.items.append(Item(name='Paper', price=32.99, quantity=255))\n",
    "        self.items.append(Item(name='Binder', price=4.75, quantity=9))\n",
    "\n",
    "    def getDetails(self):\n",
    "        # Initialize total_inventory to keep track of the total inventory value\n",
    "        total_inventory=0\n",
    "        # Print table header\n",
    "        print('Item\\t\\tPrice\\tQuantity\\tInventory Value')\n",
    "        print('='*50)\n",
    "        # Iterate over each item in the inventory\n",
    "        for item in self.items:\n",
    "            print(f'{item.getName()}\\t\\t{item.getPrice():.2f}\\t{item.getQuantity()}\\t\\t{item.getValue():.2f}')\n",
    "            total_inventory+=item.getValue()\n",
    "        print('')\n",
    "        print(f'Total Inventory Value: {total_inventory:.2f}')\n",
    "\n",
    "# Creating an instance of Inventory\n",
    "inventory=Inventory()\n",
    "# Generating items\n",
    "inventory.generate()\n",
    "# Getting details of the inventory\n",
    "inventory.getDetails()\n"
   ]
  }
 ],
 "metadata": {
  "kernelspec": {
   "display_name": "Python 3",
   "language": "python",
   "name": "python3"
  },
  "language_info": {
   "codemirror_mode": {
    "name": "ipython",
    "version": 3
   },
   "file_extension": ".py",
   "mimetype": "text/x-python",
   "name": "python",
   "nbconvert_exporter": "python",
   "pygments_lexer": "ipython3",
   "version": "3.12.3"
  }
 },
 "nbformat": 4,
 "nbformat_minor": 2
}
